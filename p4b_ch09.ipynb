{
 "cells": [
  {
   "cell_type": "code",
   "execution_count": 1,
   "metadata": {},
   "outputs": [],
   "source": [
    "#renaming files requires importing os module \n",
    "import os \n",
    "os.rename('/users/evan/desktop/dna.txt', '/users/evan/desktop/new.txt')"
   ]
  },
  {
   "cell_type": "code",
   "execution_count": 2,
   "metadata": {},
   "outputs": [],
   "source": [
    "#moving the file to a new destination \n",
    "import os \n",
    "os.rename('/users/evan/desktop/new.txt', '/users/evan/documents/new.txt')\n",
    "\n",
    "#moving and renaming the file just requires adding the new file name in the second entry"
   ]
  },
  {
   "cell_type": "code",
   "execution_count": null,
   "metadata": {},
   "outputs": [],
   "source": [
    "#make a directory and then rename the directory \n",
    "import os\n",
    "os.mkdir('/users/evan/desktop/new_dir')"
   ]
  },
  {
   "cell_type": "code",
   "execution_count": 5,
   "metadata": {},
   "outputs": [],
   "source": [
    "#moving the directory\n",
    "os.rename('/users/evan/desktop/new_dir', '/users/evan/documents/newer_dir')"
   ]
  },
  {
   "cell_type": "code",
   "execution_count": 21,
   "metadata": {},
   "outputs": [
    {
     "data": {
      "text/plain": [
       "'/users/evan/documents/new_copy.txt'"
      ]
     },
     "execution_count": 21,
     "metadata": {},
     "output_type": "execute_result"
    }
   ],
   "source": [
    "#copying a file or folder \n",
    "import shutil\n",
    "shutil.copy('/users/evan/documents/new.txt', '/users/evan/documents/new_copy.txt')"
   ]
  },
  {
   "cell_type": "code",
   "execution_count": 19,
   "metadata": {},
   "outputs": [
    {
     "name": "stdout",
     "output_type": "stream",
     "text": [
      "We got em\n"
     ]
    }
   ],
   "source": [
    "#testing whether a file exists \n",
    "import os \n",
    "if os.path.exists('/users/evan/documents/new.txt'):\n",
    "    print(\"We got em\")"
   ]
  },
  {
   "cell_type": "code",
   "execution_count": 22,
   "metadata": {},
   "outputs": [
    {
     "data": {
      "text/plain": [
       "'/users/evan/desktop/newer_dir'"
      ]
     },
     "execution_count": 22,
     "metadata": {},
     "output_type": "execute_result"
    }
   ],
   "source": [
    "#copying directories/folders \n",
    "import shutil\n",
    "shutil.copytree('/users/evan/documents/newer_dir', '/users/evan/desktop/newer_dir')"
   ]
  },
  {
   "cell_type": "code",
   "execution_count": 23,
   "metadata": {},
   "outputs": [],
   "source": [
    "#deleting a single file \n",
    "os.remove('/users/evan/documents/new_copy.txt')"
   ]
  },
  {
   "cell_type": "code",
   "execution_count": 25,
   "metadata": {},
   "outputs": [],
   "source": [
    "#deleting an empty directory\n",
    "os.rmdir('/users/evan/documents/newer_dir')"
   ]
  },
  {
   "cell_type": "code",
   "execution_count": 26,
   "metadata": {},
   "outputs": [],
   "source": [
    "#deleting a folder and all of its contents \n",
    "shutil.rmtree('/users/evan/desktop/newer_dir')"
   ]
  },
  {
   "cell_type": "code",
   "execution_count": 27,
   "metadata": {},
   "outputs": [
    {
     "name": "stdout",
     "output_type": "stream",
     "text": [
      "A file is named parseGFF.py.ipynb\n",
      "A file is named nucleotide_code.py\n",
      "A file is named p4b_ch03.ipynb\n",
      "A file is named assn03.sh\n",
      "A file is named blood_on_tracks_in_class.ipynb\n",
      "A file is named .DS_Store\n",
      "A file is named p4b_ch05.ipynb\n",
      "A file is named p4b_ch02.ipynb\n",
      "A file is named blood_on_the_tracks.txt\n",
      "A file is named p4b_ch04.ipynb\n",
      "A file is named test_files_p4b\n",
      "A file is named README.md\n",
      "A file is named Python_practice\n",
      "A file is named CV_EA.md\n",
      "A file is named shaver_etal.csv\n",
      "A file is named .ipynb_checkpoints\n",
      "A file is named assn01.sh\n",
      "A file is named assn04\n",
      "A file is named p4b_ch09.ipynb\n",
      "A file is named parse_shaver.py\n",
      "A file is named .git\n"
     ]
    }
   ],
   "source": [
    "#listing the contents of a folder \n",
    "#contents of the working directory is indicated by '.'\n",
    "for file in os.listdir('.'):\n",
    "    print(\"A file is named \" + file)\n",
    "    "
   ]
  },
  {
   "cell_type": "code",
   "execution_count": 28,
   "metadata": {},
   "outputs": [
    {
     "name": "stdout",
     "output_type": "stream",
     "text": [
      "A file is named .DS_Store\n",
      "A file is named .localized\n",
      "A file is named Written Reflection_experience 1 - evan .docx\n",
      "A file is named ~$itten Reflection_experience 1.docx\n",
      "A file is named Arduino\n",
      "A file is named Riddler - Paul Suskie .docx\n",
      "A file is named Research notes.docx\n",
      "A file is named new.txt\n"
     ]
    }
   ],
   "source": [
    "#listing the contents of a folder that is not the working directory \n",
    "for file_name in os.listdir('/users/evan/documents'):\n",
    "    print('A file is named ' + file_name)"
   ]
  },
  {
   "cell_type": "code",
   "execution_count": 19,
   "metadata": {},
   "outputs": [
    {
     "data": {
      "text/plain": [
       "0"
      ]
     },
     "execution_count": 19,
     "metadata": {},
     "output_type": "execute_result"
    }
   ],
   "source": [
    "#running a program through python requires subprocess module \n",
    "import subprocess\n",
    "subprocess.call('/bin/date', shell=True)"
   ]
  },
  {
   "cell_type": "code",
   "execution_count": 21,
   "metadata": {},
   "outputs": [
    {
     "name": "stdout",
     "output_type": "stream",
     "text": [
      "b'Thu Mar 19 14:30:59 CDT 2020'\n"
     ]
    }
   ],
   "source": [
    "#saving an output from a ran program, and storing it in a variable \n",
    "import subprocess\n",
    "current_month = subprocess.check_output('/bin/date', shell=True)\n",
    "print(current_month.rstrip())"
   ]
  },
  {
   "cell_type": "code",
   "execution_count": 33,
   "metadata": {},
   "outputs": [
    {
     "name": "stdout",
     "output_type": "stream",
     "text": [
      "Enter the accession nameevan\n",
      "evan\n"
     ]
    }
   ],
   "source": [
    "accession = input('Enter the accession name')\n",
    "print(accession)"
   ]
  },
  {
   "cell_type": "code",
   "execution_count": 31,
   "metadata": {},
   "outputs": [
    {
     "name": "stdout",
     "output_type": "stream",
     "text": [
      "['/Users/evan/opt/anaconda3/lib/python3.7/site-packages/ipykernel_launcher.py', '-f', '/Users/evan/Library/Jupyter/runtime/kernel-23618b14-81a0-46ea-8f91-21c902b58835.json']\n"
     ]
    }
   ],
   "source": [
    "#command line arguments in code - lod sys module\n",
    "import sys\n",
    "print(sys.argv)"
   ]
  },
  {
   "cell_type": "code",
   "execution_count": 32,
   "metadata": {},
   "outputs": [],
   "source": [
    "#exercise 1 - binning DNA sequences \n",
    "#dont have the actual directory but will follow the code with notes \n",
    "\n",
    "#read what DNA sequences are in the directory \n",
    "import os \n",
    "for file_name in os.listdir('.'):\n",
    "    if file_name.endswith('.dna'):\n",
    "        print(file_name)"
   ]
  },
  {
   "cell_type": "code",
   "execution_count": 34,
   "metadata": {},
   "outputs": [],
   "source": [
    "#exercise 1 - reading the DNA sequences \n",
    "#looks at each file \n",
    "import os \n",
    "for file_name in os.listdir('.'):\n",
    "    if file_name.endswith('.dna'):\n",
    "        print(file_name)\n",
    "        dna = open(file_name)\n",
    "        \n",
    "        #reading each line \n",
    "        for line in dna_file:\n",
    "            dna = line.rstrip('\\n')\n",
    "            length = len(dna)\n",
    "            print('dna sequence length' + str(length))"
   ]
  },
  {
   "cell_type": "code",
   "execution_count": 38,
   "metadata": {},
   "outputs": [],
   "source": [
    "#exercise 1 - setting up the ranges for extracting the files \n",
    "\n",
    "import os \n",
    "\n",
    "#creating a new folder for each bin \n",
    "for bin_lower in range(100,1000,100):\n",
    "    bin_upper = bin_lower + 99\n",
    "    bin_folder_name = str(bin_lower) + '_' + str(bin_upper)\n",
    "    os.mkdir(bin_folder_name)\n",
    "\n",
    "#creating a variable to hold the sequence number \n",
    "seq_number = 1\n",
    "\n",
    "#looking through each file in the folder \n",
    "for file_name in os.listdir('.'):\n",
    "    \n",
    "    #checking if it ends in .dna\n",
    "    if file_name.endswith('.dna'):\n",
    "        print(file_name)\n",
    "        \n",
    "        #opening the file and looking at each line \n",
    "        dna_file = open(file_name)\n",
    "        for line in dna_file:\n",
    "            \n",
    "            #calculate sequence length \n",
    "            dna = line.rstrip('\\n')\n",
    "            length = len(dna)\n",
    "            print('sequence length is ' + str(length))\n",
    "            \n",
    "            #check the ranges for binning low number sequences \n",
    "            for bin_lower in range(100,1000,100):\n",
    "                bin_upper = bin_lower + 99\n",
    "                if length >= bin_lower and length <= bin_upper:\n",
    "                    \n",
    "                    #once the correct bin is known this writes out the sequence \n",
    "                    print('bin is' + str(bin_lower) + 'to' + str(bin_upper))\n",
    "                    bin_folder_name = str(bin_lower) + \"_\" + str(bin_upper)\n",
    "                    output_path = bin_folder_name + '/' + str(seq_number) + '.dna' \n",
    "                    output = open(output_path, \"w\") \n",
    "                    output.write(dna) \n",
    "                    output.close()\n",
    "                    \n",
    "                    #increment sequence number \n",
    "                    seq_number = seq_number + 1"
   ]
  },
  {
   "cell_type": "code",
   "execution_count": 1,
   "metadata": {},
   "outputs": [
    {
     "name": "stdout",
     "output_type": "stream",
     "text": [
      "ACTGTAGCTGTACGTAGC\n",
      "ACTG\n",
      "CTGT\n",
      "TGTA\n",
      "GTAG\n",
      "TAGC\n",
      "AGCT\n",
      "GCTG\n",
      "CTGT\n",
      "TGTA\n",
      "GTAC\n",
      "TACG\n",
      "ACGT\n",
      "CGTA\n",
      "GTAG\n",
      "TAGC\n"
     ]
    }
   ],
   "source": [
    "#Kmer counting \n",
    "test_dna = 'ACTGTAGCTGTACGTAGC'\n",
    "print(test_dna)\n",
    "kmer_size=4\n",
    "for start in range(0,len(test_dna)-(kmer_size-1),1):\n",
    "    kmer=test_dna[start:start+kmer_size]\n",
    "    print(kmer)\n"
   ]
  },
  {
   "cell_type": "code",
   "execution_count": 4,
   "metadata": {},
   "outputs": [
    {
     "ename": "ValueError",
     "evalue": "invalid literal for int() with base 10: '-f'",
     "output_type": "error",
     "traceback": [
      "\u001b[0;31m---------------------------------------------------------------------------\u001b[0m",
      "\u001b[0;31mValueError\u001b[0m                                Traceback (most recent call last)",
      "\u001b[0;32m<ipython-input-4-2b8865b87b8d>\u001b[0m in \u001b[0;36m<module>\u001b[0;34m\u001b[0m\n\u001b[1;32m      3\u001b[0m \u001b[0;34m\u001b[0m\u001b[0m\n\u001b[1;32m      4\u001b[0m \u001b[0;31m#converting command line arguments to variables\u001b[0m\u001b[0;34m\u001b[0m\u001b[0;34m\u001b[0m\u001b[0;34m\u001b[0m\u001b[0m\n\u001b[0;32m----> 5\u001b[0;31m \u001b[0mkmer_size\u001b[0m \u001b[0;34m=\u001b[0m \u001b[0mint\u001b[0m\u001b[0;34m(\u001b[0m\u001b[0msys\u001b[0m\u001b[0;34m.\u001b[0m\u001b[0margv\u001b[0m\u001b[0;34m[\u001b[0m\u001b[0;36m1\u001b[0m\u001b[0;34m]\u001b[0m\u001b[0;34m)\u001b[0m\u001b[0;34m\u001b[0m\u001b[0;34m\u001b[0m\u001b[0m\n\u001b[0m\u001b[1;32m      6\u001b[0m \u001b[0mcount_cutoff\u001b[0m \u001b[0;34m=\u001b[0m \u001b[0mint\u001b[0m\u001b[0;34m(\u001b[0m\u001b[0msys\u001b[0m\u001b[0;34m.\u001b[0m\u001b[0margv\u001b[0m\u001b[0;34m[\u001b[0m\u001b[0;36m2\u001b[0m\u001b[0;34m]\u001b[0m\u001b[0;34m)\u001b[0m\u001b[0;34m\u001b[0m\u001b[0;34m\u001b[0m\u001b[0m\n\u001b[1;32m      7\u001b[0m \u001b[0;34m\u001b[0m\u001b[0m\n",
      "\u001b[0;31mValueError\u001b[0m: invalid literal for int() with base 10: '-f'"
     ]
    }
   ],
   "source": [
    "import os \n",
    "import sys \n",
    "\n",
    "#converting command line arguments to variables \n",
    "kmer_size = int(sys.argv[1])\n",
    "count_cutoff = int(sys.argv[2])\n",
    "\n",
    "#define the function to split the dna data\n",
    "def split_dna(dna,kmer_size):\n",
    "    kmer = []\n",
    "    for start in range(0,len(dna)-(kmer_size-1),1):\n",
    "        kmer = dna[start:start+kmer_size]\n",
    "        kmers.append(kmer)\n",
    "    return kmers\n",
    "\n",
    "#creating an empty dictionary to hold the counts \n",
    "kmer_counts = {}\n",
    "\n",
    "#processing the file with the rightname \n",
    "for file_name in os.listdir('.'):\n",
    "    if file_name.endswith(\".dna\"):\n",
    "        dna_file = open(file_name)\n",
    "        \n",
    "        #processing dna sequences in the file \n",
    "        for line in dna_file:\n",
    "            dna = line.rstrip('\\n')\n",
    "            \n",
    "            #increasing the count for each kmer found \n",
    "            for kmer_split in split_dna(dna, kmer_size):\n",
    "                current_count = kmer_counts.get(kmer, 0)\n",
    "                new_count = current_count + 1\n",
    "                kmer_counts[kmer] = new_count \n",
    "                \n",
    "#printing the kmers that only follow the cutoff\n",
    "for kmer, count in kmer_counts.items():\n",
    "    if count > count_cutoff: \n",
    "        print (kmer + ' : ' + str(count))"
   ]
  },
  {
   "cell_type": "code",
   "execution_count": null,
   "metadata": {},
   "outputs": [],
   "source": []
  }
 ],
 "metadata": {
  "kernelspec": {
   "display_name": "Python 3",
   "language": "python",
   "name": "python3"
  },
  "language_info": {
   "codemirror_mode": {
    "name": "ipython",
    "version": 3
   },
   "file_extension": ".py",
   "mimetype": "text/x-python",
   "name": "python",
   "nbconvert_exporter": "python",
   "pygments_lexer": "ipython3",
   "version": "3.7.4"
  }
 },
 "nbformat": 4,
 "nbformat_minor": 2
}
