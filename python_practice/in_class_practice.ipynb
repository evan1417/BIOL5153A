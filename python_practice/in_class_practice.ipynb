{
 "cells": [
  {
   "cell_type": "code",
   "execution_count": 9,
   "metadata": {},
   "outputs": [
    {
     "name": "stdout",
     "output_type": "stream",
     "text": [
      "hello nerd\n",
      "hello world\n"
     ]
    }
   ],
   "source": [
    "#printing hello world \n",
    "print(\"hello nerd\")\n",
    "print(\"hello world\")"
   ]
  },
  {
   "cell_type": "code",
   "execution_count": 8,
   "metadata": {},
   "outputs": [
    {
     "name": "stdout",
     "output_type": "stream",
     "text": [
      "She said, \"Whatchu talkin bout Willis\"\n"
     ]
    }
   ],
   "source": [
    "#print with quotation marks \n",
    "print('She said, \"Whatchu talkin bout Willis\"')"
   ]
  },
  {
   "cell_type": "code",
   "execution_count": 13,
   "metadata": {},
   "outputs": [
    {
     "name": "stdout",
     "output_type": "stream",
     "text": [
      "ATGCGGA\n",
      "my_dna\n"
     ]
    }
   ],
   "source": [
    "#printing variables \n",
    "my_dna=\"ATGCGGA\"\n",
    "\n",
    "#print dna sequence \n",
    "print(my_dna)\n",
    "\n",
    "#putting variable in quotes negates the variable identity\n",
    "print('my_dna')"
   ]
  },
  {
   "cell_type": "code",
   "execution_count": null,
   "metadata": {},
   "outputs": [],
   "source": []
  }
 ],
 "metadata": {
  "kernelspec": {
   "display_name": "Python 3",
   "language": "python",
   "name": "python3"
  },
  "language_info": {
   "codemirror_mode": {
    "name": "ipython",
    "version": 3
   },
   "file_extension": ".py",
   "mimetype": "text/x-python",
   "name": "python",
   "nbconvert_exporter": "python",
   "pygments_lexer": "ipython3",
   "version": "3.7.4"
  }
 },
 "nbformat": 4,
 "nbformat_minor": 2
}
