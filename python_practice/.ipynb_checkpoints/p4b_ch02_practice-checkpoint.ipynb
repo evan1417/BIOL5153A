{
 "cells": [
  {
   "cell_type": "code",
   "execution_count": 1,
   "metadata": {},
   "outputs": [],
   "source": [
    "# humans read this"
   ]
  },
  {
   "cell_type": "code",
   "execution_count": 2,
   "metadata": {},
   "outputs": [
    {
     "name": "stdout",
     "output_type": "stream",
     "text": [
      "whats up my dude\n"
     ]
    }
   ],
   "source": [
    "print(\"whats up my dude\")"
   ]
  },
  {
   "cell_type": "code",
   "execution_count": 4,
   "metadata": {},
   "outputs": [
    {
     "name": "stdout",
     "output_type": "stream",
     "text": [
      "hello\n",
      "world\n"
     ]
    }
   ],
   "source": [
    "print (\"hello\\nworld\")"
   ]
  },
  {
   "cell_type": "code",
   "execution_count": 6,
   "metadata": {},
   "outputs": [
    {
     "name": "stdout",
     "output_type": "stream",
     "text": [
      "decent rapper\n"
     ]
    }
   ],
   "source": [
    "#assign a variable\n",
    "kanye_west = \"decent rapper\"\n",
    "#printing variable does not require quotes\n",
    "print (kanye_west)"
   ]
  },
  {
   "cell_type": "code",
   "execution_count": 7,
   "metadata": {},
   "outputs": [
    {
     "name": "stdout",
     "output_type": "stream",
     "text": [
      "need 808skid cudi\n"
     ]
    }
   ],
   "source": [
    "#stick together \n",
    "kanye_west = \"need 808s\" + \"kid cudi\"\n",
    "print (kanye_west)"
   ]
  },
  {
   "cell_type": "code",
   "execution_count": 9,
   "metadata": {},
   "outputs": [
    {
     "name": "stdout",
     "output_type": "stream",
     "text": [
      "4\n"
     ]
    }
   ],
   "source": [
    "#len output \n",
    "dna = len(\"AAGG\")\n",
    "print (dna)"
   ]
  },
  {
   "cell_type": "code",
   "execution_count": 10,
   "metadata": {},
   "outputs": [
    {
     "name": "stdout",
     "output_type": "stream",
     "text": [
      "The length is 4\n"
     ]
    }
   ],
   "source": [
    "#using str output (string)\n",
    "dna = len(\"AAGG\")\n",
    "print (\"The length is \" + str(dna))"
   ]
  },
  {
   "cell_type": "code",
   "execution_count": 2,
   "metadata": {},
   "outputs": [
    {
     "name": "stdout",
     "output_type": "stream",
     "text": [
      "atcg\n"
     ]
    }
   ],
   "source": [
    "#prints variable in lowercase\n",
    "my_dna = (\"ATCG\")\n",
    "print (my_dna.lower())"
   ]
  },
  {
   "cell_type": "code",
   "execution_count": 3,
   "metadata": {},
   "outputs": [
    {
     "name": "stdout",
     "output_type": "stream",
     "text": [
      "sequence length is 5\n"
     ]
    }
   ],
   "source": [
    "my_dna = len(\"AATCG\")\n",
    "print (\"sequence length is \" + str(my_dna))\n",
    "#string turns a number into a string, without it an error would occur when trying to print the length of sequence"
   ]
  },
  {
   "cell_type": "code",
   "execution_count": 1,
   "metadata": {},
   "outputs": [
    {
     "name": "stdout",
     "output_type": "stream",
     "text": [
      "AATGCTTAGCGGACC\n"
     ]
    }
   ],
   "source": [
    "#assigns variables then prints with variable and a new term\n",
    "upstream = \"AATGC\"\n",
    "downstream = \"GGACC\"\n",
    "print (upstream + \"TTAGC\" + downstream)"
   ]
  },
  {
   "cell_type": "code",
   "execution_count": 3,
   "metadata": {},
   "outputs": [
    {
     "name": "stdout",
     "output_type": "stream",
     "text": [
      "yaatylmnaagr\n",
      "vaatylmnaagr\n",
      "vaatylmnaagr\n"
     ]
    }
   ],
   "source": [
    "#using the replace function \n",
    "protein = \"vaatylmnaagr\"\n",
    "#replacing valine with tyorisine \n",
    "print (protein.replace(\"v\", \"y\"))\n",
    "#replacing more than one character \n",
    "print (protein.replace(\"vlmn\", \"gpro\"))\n",
    "print (protein)"
   ]
  },
  {
   "cell_type": "code",
   "execution_count": 4,
   "metadata": {},
   "outputs": [
    {
     "name": "stdout",
     "output_type": "stream",
     "text": [
      "pa\n",
      "vlspad\n",
      "vlspadktnv\n"
     ]
    }
   ],
   "source": [
    "#the substring - prints portion of a string we want. Positions start at 0 not 1\n",
    "protein = \"vlspadktnv\"\n",
    "#printing 3 through 5\n",
    "print(protein[3:5])\n",
    "print(protein[0:6])\n",
    "#using stop position beyond the end position will print till the string ends \n",
    "print(protein[0:69])"
   ]
  },
  {
   "cell_type": "code",
   "execution_count": 8,
   "metadata": {},
   "outputs": [
    {
     "name": "stdout",
     "output_type": "stream",
     "text": [
      "2\n",
      "valines:2\n"
     ]
    }
   ],
   "source": [
    "#using count - returns number of times argument is found in a variable \n",
    "protein = \"vlspadktnv\"\n",
    "#counting aa residues \n",
    "valine_count = protein.count(\"v\")\n",
    "print(valine_count)\n",
    "print (\"valines:\" + str(valine_count))"
   ]
  },
  {
   "cell_type": "code",
   "execution_count": 10,
   "metadata": {},
   "outputs": [
    {
     "name": "stdout",
     "output_type": "stream",
     "text": [
      "3\n",
      "-1\n"
     ]
    }
   ],
   "source": [
    "#finding where certain values are in a string using find \n",
    "protein = \"vlspadktnv\"\n",
    "print(str(protein.find('p')))\n",
    "#finding position that doesn't exist outputs -1\n",
    "print(str(protein.find('w')))"
   ]
  },
  {
   "cell_type": "code",
   "execution_count": null,
   "metadata": {},
   "outputs": [],
   "source": []
  }
 ],
 "metadata": {
  "kernelspec": {
   "display_name": "Python 3",
   "language": "python",
   "name": "python3"
  },
  "language_info": {
   "codemirror_mode": {
    "name": "ipython",
    "version": 3
   },
   "file_extension": ".py",
   "mimetype": "text/x-python",
   "name": "python",
   "nbconvert_exporter": "python",
   "pygments_lexer": "ipython3",
   "version": "3.7.4"
  }
 },
 "nbformat": 4,
 "nbformat_minor": 2
}
