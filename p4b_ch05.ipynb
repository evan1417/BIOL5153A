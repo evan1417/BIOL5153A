{
 "cells": [
  {
   "cell_type": "code",
   "execution_count": 6,
   "metadata": {},
   "outputs": [
    {
     "name": "stdout",
     "output_type": "stream",
     "text": [
      "0.45\n",
      "0.53\n",
      "0.52\n"
     ]
    }
   ],
   "source": [
    "#defining a function \n",
    "#first is name of the function, then in parentheses the argument \n",
    "#in order to call the function, you have to store the variable \"at_content = get_at_content('AATTGCGTAGCAATT')\"\n",
    "#any variable named inside the function cannot be called outside of the function *cannot do print(a_count) outside function \n",
    "def get_at_content(dna):\n",
    "    length = len(dna)\n",
    "    a_count = dna.upper().count(\"A\")\n",
    "    t_count = dna.upper().count(\"T\")\n",
    "    at_content = (a_count + t_count) / length\n",
    "    return round(at_content, 2)\n",
    "\n",
    "my_at_content = get_at_content('ATGCGCGATCGATCGAATCG')\n",
    "print(str(my_at_content))\n",
    "print(get_at_content('ATGCATGCAACTGTAGC'))\n",
    "print(get_at_content('aactgtagctagctagcagcgta'))"
   ]
  },
  {
   "cell_type": "code",
   "execution_count": 9,
   "metadata": {},
   "outputs": [
    {
     "name": "stdout",
     "output_type": "stream",
     "text": [
      "0.3\n",
      "0.29\n",
      "0.294\n"
     ]
    }
   ],
   "source": [
    "#call number of sig figs as an argument\n",
    "def get_at_content(dna, sig_figs):\n",
    "    length = len(dna)\n",
    "    a_count = dna.upper().count('A')\n",
    "    t_count = dna.lower().count('T')\n",
    "    at_content = (a_count + t_count) / length\n",
    "    return round(at_content, sig_figs)\n",
    "\n",
    "test_dna = \"ATGCATGCAACTGTAGC\"\n",
    "print(get_at_content(test_dna, 1))\n",
    "print(get_at_content(test_dna, 2))\n",
    "print(get_at_content(test_dna, 3))"
   ]
  },
  {
   "cell_type": "code",
   "execution_count": 6,
   "metadata": {},
   "outputs": [
    {
     "name": "stdout",
     "output_type": "stream",
     "text": [
      "<function get_a_number at 0x102def290>\n"
     ]
    }
   ],
   "source": [
    "#a no argument function \n",
    "def get_a_number():\n",
    "    length = len(num)\n",
    "    return 42\n",
    "\n",
    "num = '556677898839'\n",
    "print(str(get_a_number))"
   ]
  },
  {
   "cell_type": "code",
   "execution_count": 7,
   "metadata": {},
   "outputs": [],
   "source": [
    "#functions dont always need the return value but you want to make one function do one job "
   ]
  },
  {
   "cell_type": "code",
   "execution_count": 14,
   "metadata": {},
   "outputs": [],
   "source": [
    "def print_dna(dna):\n",
    "    length = len(dna)\n",
    "    a_count = dna.count('A')\n",
    "    t_count = dna.count('T')\n",
    "    at_content = (a_count + t_count) / length \n",
    "    print(str(round(at_content, 2)))"
   ]
  },
  {
   "cell_type": "code",
   "execution_count": 18,
   "metadata": {},
   "outputs": [
    {
     "data": {
      "text/plain": [
       "0.18"
      ]
     },
     "execution_count": 18,
     "metadata": {},
     "output_type": "execute_result"
    }
   ],
   "source": [
    "def get_at_content(dna, sig_figs):\n",
    "    length = len(dna)\n",
    "    a_count = dna.upper().count('A')\n",
    "    t_count = dna.lower().count('T')\n",
    "    at_content = (a_count + t_count) / length\n",
    "    return round(at_content, sig_figs)\n",
    "\n",
    "\n",
    "#calling functions \n",
    "get_at_content(dna=\"ATCGTGACTCG\", sig_figs=2)"
   ]
  },
  {
   "cell_type": "code",
   "execution_count": 20,
   "metadata": {},
   "outputs": [
    {
     "name": "stdout",
     "output_type": "stream",
     "text": [
      "0.57\n",
      "0.571\n",
      "0.5714\n"
     ]
    }
   ],
   "source": [
    "def get_at_content(dna, sig_figs=2):\n",
    "    length = len(dna)\n",
    "    a_count = dna.upper().count('A')\n",
    "    t_count = dna.upper().count('T')\n",
    "    at_content = (a_count + t_count) / length \n",
    "    return round(at_content, sig_figs)\n",
    "\n",
    "print(get_at_content('AATGCGATTCCGAT'))\n",
    "print(get_at_content('AATGCGATTCCGAT', 3))\n",
    "print(get_at_content('AATGCGATTCCGAT', sig_figs=4))"
   ]
  },
  {
   "cell_type": "code",
   "execution_count": 22,
   "metadata": {},
   "outputs": [
    {
     "ename": "AssertionError",
     "evalue": "",
     "output_type": "error",
     "traceback": [
      "\u001b[0;31m---------------------------------------------------------------------------\u001b[0m",
      "\u001b[0;31mAssertionError\u001b[0m                            Traceback (most recent call last)",
      "\u001b[0;32m<ipython-input-22-1991f8a25c88>\u001b[0m in \u001b[0;36m<module>\u001b[0;34m\u001b[0m\n\u001b[0;32m----> 1\u001b[0;31m \u001b[0;32massert\u001b[0m \u001b[0mget_at_content\u001b[0m\u001b[0;34m(\u001b[0m\u001b[0;34m'ATCG'\u001b[0m\u001b[0;34m)\u001b[0m \u001b[0;34m==\u001b[0m \u001b[0;36m0.7\u001b[0m\u001b[0;34m\u001b[0m\u001b[0;34m\u001b[0m\u001b[0m\n\u001b[0m",
      "\u001b[0;31mAssertionError\u001b[0m: "
     ]
    }
   ],
   "source": [
    "assert get_at_content('ATCG') == 0.7"
   ]
  },
  {
   "cell_type": "code",
   "execution_count": 23,
   "metadata": {},
   "outputs": [],
   "source": [
    "assert get_at_content('ATCG') == 0.5"
   ]
  },
  {
   "cell_type": "code",
   "execution_count": 28,
   "metadata": {},
   "outputs": [],
   "source": [
    "def get_at_content(dna, sig_figs=2):\n",
    "    dna = dna.replace('N', '')\n",
    "    length = len(dna)\n",
    "    a_count = dna.upper().count('A')\n",
    "    t_count = dna.upper().count('T')\n",
    "    at_content = (a_count + t_count) / length \n",
    "    return round(at_content, sig_figs)\n",
    "\n",
    "assert get_at_content('ATCGNNNNNNNNN') == 0.5"
   ]
  },
  {
   "cell_type": "code",
   "execution_count": 45,
   "metadata": {},
   "outputs": [
    {
     "name": "stdout",
     "output_type": "stream",
     "text": [
      "5.0\n",
      "10.0\n",
      "50.0\n",
      "0.0\n"
     ]
    }
   ],
   "source": [
    "# % of amino acid residues \n",
    "def amino_acid_percent(protein, aa):\n",
    "    protein = protein.upper()\n",
    "    aa = aa.upper()\n",
    "    aa_count = protein.count(aa)\n",
    "    length = len(protein)\n",
    "    percent = (aa_count/length)*100\n",
    "    return percent\n",
    "\n",
    "assert amino_acid_percent(\"MSRSLLLRFLLFLLLLPPLP\", \"M\") == 5\n",
    "assert amino_acid_percent(\"MSRSLLLRFLLFLLLLPPLP\", \"r\") == 10\n",
    "assert amino_acid_percent(\"msrslllrfllfllllpplp\", \"L\") == 50\n",
    "assert amino_acid_percent(\"MSRSLLLRFLLFLLLLPPLP\", \"Y\") == 0\n",
    "\n",
    "print(amino_acid_percent(\"MSRSLLLRFLLFLLLLPPLP\", \"M\"))\n",
    "print(amino_acid_percent(\"MSRSLLLRFLLFLLLLPPLP\", \"r\"))\n",
    "print(amino_acid_percent(\"msrslllrfllfllllpplp\", \"L\"))\n",
    "print(amino_acid_percent(\"MSRSLLLRFLLFLLLLPPLP\", \"Y\"))"
   ]
  },
  {
   "cell_type": "code",
   "execution_count": 9,
   "metadata": {},
   "outputs": [
    {
     "name": "stdout",
     "output_type": "stream",
     "text": [
      "5.0\n",
      "55.0\n",
      "70.0\n",
      "65.0\n"
     ]
    }
   ],
   "source": [
    "# % of amino acid residues part 2 - accepting a list of amino acids\n",
    "def amino_acid_percentage(protein, aa_list=['A','I','L','M','F','W','Y','V']):\n",
    "    protein = protein.upper()\n",
    "    protein_length = len(protein)\n",
    "    total = 0\n",
    "    for aa in aa_list:\n",
    "        aa = aa.upper()\n",
    "        aa_count = protein.count(aa)\n",
    "        total = total + aa_count\n",
    "    percent = total * 100 / protein_length\n",
    "    return percent\n",
    "\n",
    "#assert amino_acid_percentage(\"MSRSLLLRFLLFLLLLPPLP\", [\"M\"]) == 5\n",
    "#assert amino_acid_percentage(\"MSRSLLLRFLLFLLLLPPLP\", ['M', 'L']) == 55\n",
    "#assert amino_acid_percentage(\"MSRSLLLRFLLFLLLLPPLP\", ['F', 'S', 'L']) == 70\n",
    "#assert amino_acid_percentage(\"MSRSLLLRFLLFLLLLPPLP\") == 65\n",
    "\n",
    "print(amino_acid_percentage(\"MSRSLLLRFLLFLLLLPPLP\", [\"M\"]))\n",
    "print(amino_acid_percentage(\"MSRSLLLRFLLFLLLLPPLP\", ['M', 'L']))\n",
    "print(amino_acid_percentage(\"MSRSLLLRFLLFLLLLPPLP\", ['F', 'S', 'L']))\n",
    "print(amino_acid_percentage(\"MSRSLLLRFLLFLLLLPPLP\"))"
   ]
  },
  {
   "cell_type": "code",
   "execution_count": 2,
   "metadata": {},
   "outputs": [
    {
     "name": "stdout",
     "output_type": "stream",
     "text": [
      "20\n",
      "1\n",
      "10\n",
      "0.55\n"
     ]
    }
   ],
   "source": [
    "sequence = 'MSRSLLLRFLLFLLLLPPLP'\n",
    "test_length = len(sequence)\n",
    "print(str(test_length))\n",
    "\n",
    "count = sequence.count('M')\n",
    "print(str(count))\n",
    "count2 = sequence.count('L')\n",
    "print(str(count2))\n",
    "\n",
    "print((count+count2)/test_length)"
   ]
  },
  {
   "cell_type": "code",
   "execution_count": null,
   "metadata": {},
   "outputs": [],
   "source": []
  }
 ],
 "metadata": {
  "kernelspec": {
   "display_name": "Python 3",
   "language": "python",
   "name": "python3"
  },
  "language_info": {
   "codemirror_mode": {
    "name": "ipython",
    "version": 3
   },
   "file_extension": ".py",
   "mimetype": "text/x-python",
   "name": "python",
   "nbconvert_exporter": "python",
   "pygments_lexer": "ipython3",
   "version": "3.7.4"
  }
 },
 "nbformat": 4,
 "nbformat_minor": 2
}
