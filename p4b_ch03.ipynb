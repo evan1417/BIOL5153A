{
 "cells": [
  {
   "cell_type": "code",
   "execution_count": 1,
   "metadata": {},
   "outputs": [
    {
     "name": "stdout",
     "output_type": "stream",
     "text": [
      ">Citrullus_cox1\n",
      "\n",
      "ACGACAAATCCGGTCCGATGGCTGTTCTCCACTAACCACAAGGATATAGGGACTCTATATTTCATCTTCGGTGCCATTGCTGGAGTGATGGGCACATGCTTCTCAGTACTGATTCGTATGGAATTAGCACGACCCGGCGATCAAATTCTTGGTGGGAATCATCAACTTTATAATGTTTTAATAACGGCTCACGCTTTTTTAATGATCTTTTTTATGGTTATGCCGGCGATGATAGGTGGATCTGGTAATTGGTCTGTTCCGATTCTGATAGGTGCACCTGACATGGCATTTCCACGATTAAATAATATTTCATTCTGGTTGTTGCCACCAAGTCTCTTGCTCCTATTAAGCTCAGCCTTAGTAGAAGTGGGTAGCGGCACTGGGTGGACGGTCTATCCGCCCTTAAGTGGTATTACCAGCCATTCTGGAGGAGCAGTTGATTCAGCAATTTCTAGTCTTCATCTATCTGGTATTTCATCCATTTTAGGTTCTATCAATTTTATAACGACTATTTCCAACATGCGTGGACCTGGAATGACTATGCATAGATCACCCCTCTTTGTGTGGTCCGTTCTAGTGACAGCATTCCCACTTTTATTATCACTTCCGGTACTGGCAGGGGCTATTACCATGTTATTAACCGATCGAAACTTTAATACAACCTTTTCTGATCCCGCTGGAGGGGGAGACCCCATATTATACCAGCATCTCTTTTGGTTCTTCGGTCACCCTGAAGTTTACATCCTAATTCTGCCTGGATCCGGTATCATAAGTCATATCGTTTCGACTTTTTCGGGAAAACCGGTTTTCGGGTATCTAGGCATGGTTTATGCCATGATCAGTATAGGTGTTCTTGGATTTCTTGTTTGGGCTCATCATATGTTTACTGTGGGCTTAGACGTTGATACCCGTGCCTACTTCACCGCTGCTACCATGATCATAGCAGTCCCCACTGGAATCAAAATCTTTAGTTGGATCGCTACCATGTGGGGGGGTTCGATACAATACAAAACACCCATGTTATTTGCTGTAGGGTCCATCTTTTTGTTCACCATAGGAGGACTCACTGGAATAGTCCCGGCAAATTCAGGGCTAGACATTGCTCTACATGATACTTATTATGTGGTTGCACATTTCCATTATGTACTTTCTATGGGAGCCGTTTTTGCTTTATTTGCAGGATTTCACTATTGGGTGGGTAAAATCTTTGGTCGGACATACCCTGAAACTTTAGGTCAAATCCATTTTTGGATCACTTTTTTCGGGGTTAATCCGACCCTCTTTCCCATGCATTTCTTAGGGCTTTCGGGTATGCCACGTCGCATTCCTGATTATCCAGATGCTTACGCTGGATGGAATGCCCTTAGCAGTTTTGGCTCTTATATATCCGTAGTTGGGATTCGTCGTTTCTTCGTGGTCGTAACAATCACTTCAAGCAGTGGAAATAACAAAAGATGTGCTCCAAGTCCTTGGGCTGTTGAACAGAATTCAACCACACTGGAATGGATGGTACAAAGTCCTCCAGCTTTTCATACTTTTGGAGAACTTCCTGCTATCAAGGAGACGAAAAGCTATGTGAAGTAA\n",
      "\n"
     ]
    }
   ],
   "source": [
    "#methods to open and read files\n",
    "my_file = open(\"dna.txt\")\n",
    "file_contents = my_file.read()\n",
    "print(file_contents)"
   ]
  },
  {
   "cell_type": "code",
   "execution_count": 5,
   "metadata": {},
   "outputs": [
    {
     "name": "stdout",
     "output_type": "stream",
     "text": [
      ">Citrullus_cox1\n",
      "\n",
      "ACGACAAATCCGGTCCGATGGCTGTTCTCCACTAACCACAAGGATATAGGGACTCTATATTTCATCTTCGGTGCCATTGCTGGAGTGATGGGCACATGCTTCTCAGTACTGATTCGTATGGAATTAGCACGACCCGGCGATCAAATTCTTGGTGGGAATCATCAACTTTATAATGTTTTAATAACGGCTCACGCTTTTTTAATGATCTTTTTTATGGTTATGCCGGCGATGATAGGTGGATCTGGTAATTGGTCTGTTCCGATTCTGATAGGTGCACCTGACATGGCATTTCCACGATTAAATAATATTTCATTCTGGTTGTTGCCACCAAGTCTCTTGCTCCTATTAAGCTCAGCCTTAGTAGAAGTGGGTAGCGGCACTGGGTGGACGGTCTATCCGCCCTTAAGTGGTATTACCAGCCATTCTGGAGGAGCAGTTGATTCAGCAATTTCTAGTCTTCATCTATCTGGTATTTCATCCATTTTAGGTTCTATCAATTTTATAACGACTATTTCCAACATGCGTGGACCTGGAATGACTATGCATAGATCACCCCTCTTTGTGTGGTCCGTTCTAGTGACAGCATTCCCACTTTTATTATCACTTCCGGTACTGGCAGGGGCTATTACCATGTTATTAACCGATCGAAACTTTAATACAACCTTTTCTGATCCCGCTGGAGGGGGAGACCCCATATTATACCAGCATCTCTTTTGGTTCTTCGGTCACCCTGAAGTTTACATCCTAATTCTGCCTGGATCCGGTATCATAAGTCATATCGTTTCGACTTTTTCGGGAAAACCGGTTTTCGGGTATCTAGGCATGGTTTATGCCATGATCAGTATAGGTGTTCTTGGATTTCTTGTTTGGGCTCATCATATGTTTACTGTGGGCTTAGACGTTGATACCCGTGCCTACTTCACCGCTGCTACCATGATCATAGCAGTCCCCACTGGAATCAAAATCTTTAGTTGGATCGCTACCATGTGGGGGGGTTCGATACAATACAAAACACCCATGTTATTTGCTGTAGGGTCCATCTTTTTGTTCACCATAGGAGGACTCACTGGAATAGTCCCGGCAAATTCAGGGCTAGACATTGCTCTACATGATACTTATTATGTGGTTGCACATTTCCATTATGTACTTTCTATGGGAGCCGTTTTTGCTTTATTTGCAGGATTTCACTATTGGGTGGGTAAAATCTTTGGTCGGACATACCCTGAAACTTTAGGTCAAATCCATTTTTGGATCACTTTTTTCGGGGTTAATCCGACCCTCTTTCCCATGCATTTCTTAGGGCTTTCGGGTATGCCACGTCGCATTCCTGATTATCCAGATGCTTACGCTGGATGGAATGCCCTTAGCAGTTTTGGCTCTTATATATCCGTAGTTGGGATTCGTCGTTTCTTCGTGGTCGTAACAATCACTTCAAGCAGTGGAAATAACAAAAGATGTGCTCCAAGTCCTTGGGCTGTTGAACAGAATTCAACCACACTGGAATGGATGGTACAAAGTCCTCCAGCTTTTCATACTTTTGGAGAACTTCCTGCTATCAAGGAGACGAAAAGCTATGTGAAGTAA\n",
      "\n"
     ]
    }
   ],
   "source": [
    "#a string\n",
    "my_file_name = (\"dna.txt\")\n",
    "#a file object that stores a variable that will open the text file\n",
    "my_file = open(my_file_name)\n",
    "#a string that stores the text in that file \n",
    "my_file_contents = my_file.read()\n",
    "print(my_file_contents)"
   ]
  },
  {
   "cell_type": "code",
   "execution_count": 7,
   "metadata": {},
   "outputs": [
    {
     "name": "stdout",
     "output_type": "stream",
     "text": [
      "sequence is ACGACAAATCCGGTCCGATGGCTGTTCTCCACTAACCACAAGGATATAGGGACTCTATATTTCATCTTCGGTGCCATTGCTGGAGTGATGGGCACATGCTTCTCAGTACTGATTCGTATGGAATTAGCACGACCCGGCGATCAAATTCTTGGTGGGAATCATCAACTTTATAATGTTTTAATAACGGCTCACGCTTTTTTAATGATCTTTTTTATGGTTATGCCGGCGATGATAGGTGGATCTGGTAATTGGTCTGTTCCGATTCTGATAGGTGCACCTGACATGGCATTTCCACGATTAAATAATATTTCATTCTGGTTGTTGCCACCAAGTCTCTTGCTCCTATTAAGCTCAGCCTTAGTAGAAGTGGGTAGCGGCACTGGGTGGACGGTCTATCCGCCCTTAAGTGGTATTACCAGCCATTCTGGAGGAGCAGTTGATTCAGCAATTTCTAGTCTTCATCTATCTGGTATTTCATCCATTTTAGGTTCTATCAATTTTATAACGACTATTTCCAACATGCGTGGACCTGGAATGACTATGCATAGATCACCCCTCTTTGTGTGGTCCGTTCTAGTGACAGCATTCCCACTTTTATTATCACTTCCGGTACTGGCAGGGGCTATTACCATGTTATTAACCGATCGAAACTTTAATACAACCTTTTCTGATCCCGCTGGAGGGGGAGACCCCATATTATACCAGCATCTCTTTTGGTTCTTCGGTCACCCTGAAGTTTACATCCTAATTCTGCCTGGATCCGGTATCATAAGTCATATCGTTTCGACTTTTTCGGGAAAACCGGTTTTCGGGTATCTAGGCATGGTTTATGCCATGATCAGTATAGGTGTTCTTGGATTTCTTGTTTGGGCTCATCATATGTTTACTGTGGGCTTAGACGTTGATACCCGTGCCTACTTCACCGCTGCTACCATGATCATAGCAGTCCCCACTGGAATCAAAATCTTTAGTTGGATCGCTACCATGTGGGGGGGTTCGATACAATACAAAACACCCATGTTATTTGCTGTAGGGTCCATCTTTTTGTTCACCATAGGAGGACTCACTGGAATAGTCCCGGCAAATTCAGGGCTAGACATTGCTCTACATGATACTTATTATGTGGTTGCACATTTCCATTATGTACTTTCTATGGGAGCCGTTTTTGCTTTATTTGCAGGATTTCACTATTGGGTGGGTAAAATCTTTGGTCGGACATACCCTGAAACTTTAGGTCAAATCCATTTTTGGATCACTTTTTTCGGGGTTAATCCGACCCTCTTTCCCATGCATTTCTTAGGGCTTTCGGGTATGCCACGTCGCATTCCTGATTATCCAGATGCTTACGCTGGATGGAATGCCCTTAGCAGTTTTGGCTCTTATATATCCGTAGTTGGGATTCGTCGTTTCTTCGTGGTCGTAACAATCACTTCAAGCAGTGGAAATAACAAAAGATGTGCTCCAAGTCCTTGGGCTGTTGAACAGAATTCAACCACACTGGAATGGATGGTACAAAGTCCTCCAGCTTTTCATACTTTTGGAGAACTTCCTGCTATCAAGGAGACGAAAAGCTATGTGAAGTAA\n",
      "length is 1585\n"
     ]
    }
   ],
   "source": [
    "#open and read the DNA text file to find length \n",
    "dna = open(\"dna.txt\")\n",
    "#read contents\n",
    "my_dna = dna.read()\n",
    "#calculate length\n",
    "dna_length = len(my_dna)\n",
    "print(\"sequence is \" + my_dna + \"length is \" + str(dna_length))"
   ]
  },
  {
   "cell_type": "code",
   "execution_count": 10,
   "metadata": {},
   "outputs": [
    {
     "name": "stdout",
     "output_type": "stream",
     "text": [
      "sequence is ACGACAAATCCGGTCCGATGGCTGTTCTCCACTAACCACAAGGATATAGGGACTCTATATTTCATCTTCGGTGCCATTGCTGGAGTGATGGGCACATGCTTCTCAGTACTGATTCGTATGGAATTAGCACGACCCGGCGATCAAATTCTTGGTGGGAATCATCAACTTTATAATGTTTTAATAACGGCTCACGCTTTTTTAATGATCTTTTTTATGGTTATGCCGGCGATGATAGGTGGATCTGGTAATTGGTCTGTTCCGATTCTGATAGGTGCACCTGACATGGCATTTCCACGATTAAATAATATTTCATTCTGGTTGTTGCCACCAAGTCTCTTGCTCCTATTAAGCTCAGCCTTAGTAGAAGTGGGTAGCGGCACTGGGTGGACGGTCTATCCGCCCTTAAGTGGTATTACCAGCCATTCTGGAGGAGCAGTTGATTCAGCAATTTCTAGTCTTCATCTATCTGGTATTTCATCCATTTTAGGTTCTATCAATTTTATAACGACTATTTCCAACATGCGTGGACCTGGAATGACTATGCATAGATCACCCCTCTTTGTGTGGTCCGTTCTAGTGACAGCATTCCCACTTTTATTATCACTTCCGGTACTGGCAGGGGCTATTACCATGTTATTAACCGATCGAAACTTTAATACAACCTTTTCTGATCCCGCTGGAGGGGGAGACCCCATATTATACCAGCATCTCTTTTGGTTCTTCGGTCACCCTGAAGTTTACATCCTAATTCTGCCTGGATCCGGTATCATAAGTCATATCGTTTCGACTTTTTCGGGAAAACCGGTTTTCGGGTATCTAGGCATGGTTTATGCCATGATCAGTATAGGTGTTCTTGGATTTCTTGTTTGGGCTCATCATATGTTTACTGTGGGCTTAGACGTTGATACCCGTGCCTACTTCACCGCTGCTACCATGATCATAGCAGTCCCCACTGGAATCAAAATCTTTAGTTGGATCGCTACCATGTGGGGGGGTTCGATACAATACAAAACACCCATGTTATTTGCTGTAGGGTCCATCTTTTTGTTCACCATAGGAGGACTCACTGGAATAGTCCCGGCAAATTCAGGGCTAGACATTGCTCTACATGATACTTATTATGTGGTTGCACATTTCCATTATGTACTTTCTATGGGAGCCGTTTTTGCTTTATTTGCAGGATTTCACTATTGGGTGGGTAAAATCTTTGGTCGGACATACCCTGAAACTTTAGGTCAAATCCATTTTTGGATCACTTTTTTCGGGGTTAATCCGACCCTCTTTCCCATGCATTTCTTAGGGCTTTCGGGTATGCCACGTCGCATTCCTGATTATCCAGATGCTTACGCTGGATGGAATGCCCTTAGCAGTTTTGGCTCTTATATATCCGTAGTTGGGATTCGTCGTTTCTTCGTGGTCGTAACAATCACTTCAAGCAGTGGAAATAACAAAAGATGTGCTCCAAGTCCTTGGGCTGTTGAACAGAATTCAACCACACTGGAATGGATGGTACAAAGTCCTCCAGCTTTTCATACTTTTGGAGAACTTCCTGCTATCAAGGAGACGAAAAGCTATGTGAAGTAA\n",
      "length is 1585\n"
     ]
    }
   ],
   "source": [
    "#open and read the DNA text file to find length \n",
    "dna = open(\"dna.txt\")\n",
    "#read contents\n",
    "my_dna = dna.read()\n",
    "#remove the (/n) from the end to make it all on one line \n",
    "strip_dna = my_dna.rstrip(\"\\n\")\n",
    "#calculate length\n",
    "dna_length = len(my_dna)\n",
    "print(\"sequence is \" + my_dna + \"length is \" + str(dna_length))"
   ]
  },
  {
   "cell_type": "code",
   "execution_count": 3,
   "metadata": {},
   "outputs": [
    {
     "data": {
      "text/plain": [
       "11"
      ]
     },
     "execution_count": 3,
     "metadata": {},
     "output_type": "execute_result"
    }
   ],
   "source": [
    "#writing data to a file \n",
    "#'a' will add to a file of same name, wherease 'w' overwrites files of the same name \n",
    "my_file = open(\"out.txt\", 'w')\n",
    "my_file.write(\"Hello world\")"
   ]
  },
  {
   "cell_type": "code",
   "execution_count": 4,
   "metadata": {},
   "outputs": [
    {
     "name": "stdout",
     "output_type": "stream",
     "text": [
      "Hello world\n"
     ]
    }
   ],
   "source": [
    "my_file = open(\"out.txt\")\n",
    "file_contents = my_file.read()\n",
    "print(file_contents)"
   ]
  },
  {
   "cell_type": "code",
   "execution_count": 9,
   "metadata": {},
   "outputs": [
    {
     "data": {
      "text/plain": [
       "4"
      ]
     },
     "execution_count": 9,
     "metadata": {},
     "output_type": "execute_result"
    }
   ],
   "source": [
    "#writing things to files with strings\n",
    "my_file = open(\"out.txt\", 'a')\n",
    "my_file.write(\"abc\" + \"def\")\n",
    "#writes 8 to file\n",
    "my_file.write(str(len(\"ABCDEF\")))\n",
    "#write TTGC\n",
    "my_file.write(\"ATCG\".replace('A', 'T'))\n",
    "#write atcg\n",
    "my_file.write(\"ATCG\".lower())"
   ]
  },
  {
   "cell_type": "code",
   "execution_count": 11,
   "metadata": {},
   "outputs": [],
   "source": [
    "#closes files \n",
    "my_file = open(\"out.txt\", 'w')\n",
    "my_file.write(\"Hello friends\")\n",
    "my_file.close()"
   ]
  },
  {
   "cell_type": "code",
   "execution_count": 13,
   "metadata": {},
   "outputs": [],
   "source": [
    "#opening files using a path \n",
    "my_file = open(\"/users/evan/Desktop/Python_Homework/out.txt\")"
   ]
  },
  {
   "cell_type": "code",
   "execution_count": 28,
   "metadata": {},
   "outputs": [
    {
     "data": {
      "text/plain": [
       "28"
      ]
     },
     "execution_count": 28,
     "metadata": {},
     "output_type": "execute_result"
    }
   ],
   "source": [
    "#Exercise Splitting Genomic DNA\n",
    "dna = \"ATCGATCGATCGATCGACTGACTAGTCATAGCTATGCATGTAGCTACTCGATCGATCGATCGATCGATCGATCGATCGATCGATCATGCTATCATCGATCGATATCGATGCATCGACTACTAT\"\n",
    "exon1 = dna[0:62]\n",
    "exon2 = dna[90:10000]\n",
    "intron = dna[62:90]\n",
    "\n",
    "#creating DNA file to read\n",
    "dna_file = open('dna_seq.txt', 'w')\n",
    "dna_file.write(exon1.lower() + intron + exon2.lower())\n",
    "\n",
    "#codon file \n",
    "codon_file = open('coding.txt', 'w')\n",
    "codon_file.write(exon1 + exon2)\n",
    "\n",
    "#intron file \n",
    "intron_file = open('noncoding.txt', 'w')\n",
    "intron_file.write(intron)"
   ]
  },
  {
   "cell_type": "code",
   "execution_count": 42,
   "metadata": {},
   "outputs": [
    {
     "data": {
      "text/plain": [
       "32"
      ]
     },
     "execution_count": 42,
     "metadata": {},
     "output_type": "execute_result"
    }
   ],
   "source": [
    "#writing a fasta file \n",
    "\n",
    "#sets values for the headers\n",
    "header1 = 'ABC123'\n",
    "header2 = 'DEF456'\n",
    "header3 = 'HIJ789'\n",
    "\n",
    "#sets values for the sequences pertaining to each header\n",
    "seq1 = 'ATCGTACGATCGATCGATCGCTAGACGTATCG'\n",
    "seq2 = 'actgatcgacgatcgatcgatcacgact'\n",
    "seq3 = 'ACTGAC-ACTGT--ACTGTA----CATGTG'\n",
    "\n",
    "#creating the new file and writing to that file \n",
    "fasta = open('test.fasta', 'w')\n",
    "fasta.write('>' + header1 + '\\n' + seq1 + '\\n')\n",
    "fasta.write('>' + header2 + '\\n' + seq2.upper() + '\\n')\n",
    "fasta.write('>' + header3 + '\\n' + seq3.replace(\"-\", \"\") + '\\n')"
   ]
  },
  {
   "cell_type": "code",
   "execution_count": 45,
   "metadata": {},
   "outputs": [
    {
     "data": {
      "text/plain": [
       "32"
      ]
     },
     "execution_count": 45,
     "metadata": {},
     "output_type": "execute_result"
    }
   ],
   "source": [
    "#writing multiple fasta files, one per sequence from the last question \n",
    "\n",
    "#sets values for the headers\n",
    "header1 = 'ABC123'\n",
    "header2 = 'DEF456'\n",
    "header3 = 'HIJ789'\n",
    "\n",
    "#sets values for the sequences pertaining to each header\n",
    "seq1 = 'ATCGTACGATCGATCGATCGCTAGACGTATCG'\n",
    "seq2 = 'actgatcgacgatcgatcgatcacgact'\n",
    "seq3 = 'ACTGAC-ACTGT--ACTGTA----CATGTG'\n",
    "\n",
    "#individually creating each files \n",
    "fasta1 = open('first.fasta', 'w')\n",
    "fasta1.write('>' + header1 + '\\n' + seq1 + '\\n')\n",
    "\n",
    "fasta2 = open('second.fasta', 'w')\n",
    "fasta2.write('>' + header2 + '\\n' + seq2.upper() + '\\n')\n",
    "\n",
    "fasta3 = open('third.fasta', 'w')\n",
    "fasta3.write('>' + header3 + '\\n' + seq3.replace('-','') + '\\n')"
   ]
  },
  {
   "cell_type": "code",
   "execution_count": null,
   "metadata": {},
   "outputs": [],
   "source": []
  }
 ],
 "metadata": {
  "kernelspec": {
   "display_name": "Python 3",
   "language": "python",
   "name": "python3"
  },
  "language_info": {
   "codemirror_mode": {
    "name": "ipython",
    "version": 3
   },
   "file_extension": ".py",
   "mimetype": "text/x-python",
   "name": "python",
   "nbconvert_exporter": "python",
   "pygments_lexer": "ipython3",
   "version": "3.7.4"
  }
 },
 "nbformat": 4,
 "nbformat_minor": 2
}
