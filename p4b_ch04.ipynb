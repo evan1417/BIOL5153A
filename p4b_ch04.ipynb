{
 "cells": [
  {
   "cell_type": "code",
   "execution_count": 4,
   "metadata": {},
   "outputs": [
    {
     "name": "stdout",
     "output_type": "stream",
     "text": [
      "dirty heads\n",
      "beastie boys\n",
      "2\n"
     ]
    }
   ],
   "source": [
    "#creating lists - each item in list is an elemenent. done by putting a variable in brackets separated by commas\n",
    "good_bands = ['dirty heads', 'beastie boys', '311']\n",
    "numbers = ['69', '420', '17']\n",
    "\n",
    "#print the first entry \n",
    "print(good_bands[0])\n",
    "\n",
    "#print second entry \n",
    "print(good_bands[1])\n",
    "\n",
    "#finding which element you want - by position\n",
    "the_index = good_bands.index('311')\n",
    "print(str(the_index))"
   ]
  },
  {
   "cell_type": "code",
   "execution_count": 6,
   "metadata": {},
   "outputs": [
    {
     "name": "stdout",
     "output_type": "stream",
     "text": [
      "['class', 'order', 'family']\n"
     ]
    }
   ],
   "source": [
    "#getting multiple elements from a list \n",
    "ranks = [\"kingdom\",\"phylum\", \"class\", \"order\", \"family\"]\n",
    "lower_ranks = ranks[2:5]\n",
    "print(lower_ranks)"
   ]
  },
  {
   "cell_type": "code",
   "execution_count": 14,
   "metadata": {},
   "outputs": [
    {
     "name": "stdout",
     "output_type": "stream",
     "text": [
      "There are now 4 good bands to ever exist\n"
     ]
    }
   ],
   "source": [
    "#using .append can add another element to a list \n",
    "good_bands = ['dirty heads', 'beastie boys', '311']\n",
    "good_bands.append('phish')\n",
    "\n",
    "#adds a band to the list and counts the new list \n",
    "print('There are now ' + str(len(good_bands)) + ' good bands to ever exist')"
   ]
  },
  {
   "cell_type": "code",
   "execution_count": 17,
   "metadata": {},
   "outputs": [
    {
     "name": "stdout",
     "output_type": "stream",
     "text": [
      "3\n",
      "4\n",
      "7\n"
     ]
    }
   ],
   "source": [
    "#possible to combine lists \n",
    "good_bands = ['dirty heads', 'beastie boys', '311']\n",
    "college = ['indiana', 'arkansas', 'purdue', 'notre dame']\n",
    "stuff = good_bands + college\n",
    "print(str(len(good_bands)))\n",
    "print(str(len(college)))\n",
    "print(str(len(stuff)))"
   ]
  },
  {
   "cell_type": "code",
   "execution_count": 2,
   "metadata": {},
   "outputs": [
    {
     "name": "stdout",
     "output_type": "stream",
     "text": [
      "['311', 'beastie boys', 'dirty heads']\n",
      "['311', 'beastie boys', 'dirty heads']\n"
     ]
    }
   ],
   "source": [
    "#reverse will change order\n",
    "good_bands = ['dirty heads', 'beastie boys', '311']\n",
    "good_bands.reverse()\n",
    "print(str(good_bands))\n",
    "\n",
    "#sort will sort alphabetically or in numerical order \n",
    "good_bands = ['dirty heads', 'beastie boys', '311']\n",
    "good_bands.sort()\n",
    "print(str(good_bands))"
   ]
  },
  {
   "cell_type": "code",
   "execution_count": 10,
   "metadata": {},
   "outputs": [
    {
     "name": "stdout",
     "output_type": "stream",
     "text": [
      "cardinals is a team I like. It starts with c\n",
      "The team name has 9 letters\n",
      "colts is a team I like. It starts with c\n",
      "The team name has 5 letters\n",
      "blues is a team I like. It starts with b\n",
      "The team name has 5 letters\n",
      "razorbacks is a team I like. It starts with r\n",
      "The team name has 10 letters\n"
     ]
    }
   ],
   "source": [
    "#writing loops \n",
    "#y is the name of list set initially (teams)\n",
    "#x is the new variable name for each element in the original variable that will get looped (stuff)\n",
    "teams = [\"cardinals\", 'colts', 'blues', 'razorbacks']\n",
    "for stuff in teams:\n",
    "    name_length = len(stuff)\n",
    "    first_letter = stuff[0]\n",
    "    print(stuff + \" is a team I like. It starts with \" + first_letter)\n",
    "    print(\"The team name has \" + str(name_length) + \" letters\")\n",
    "    \n",
    "    "
   ]
  },
  {
   "cell_type": "code",
   "execution_count": 14,
   "metadata": {},
   "outputs": [
    {
     "name": "stdout",
     "output_type": "stream",
     "text": [
      "one character is e\n",
      "one character is v\n",
      "one character is a\n",
      "one character is n\n"
     ]
    }
   ],
   "source": [
    "#Using strings as a list \n",
    "name = 'evan'\n",
    "for character in name: \n",
    "    print('one character is ' + character)"
   ]
  },
  {
   "cell_type": "code",
   "execution_count": 2,
   "metadata": {},
   "outputs": [
    {
     "name": "stdout",
     "output_type": "stream",
     "text": [
      "['melanogaster', 'simulans', 'yakuba', 'ananse']\n"
     ]
    }
   ],
   "source": [
    "#using split will break up the characters around whatever is in \"\"\n",
    "name = 'melanogaster,simulans,yakuba,ananse'\n",
    "species = name.split(',')\n",
    "print(str(species))"
   ]
  },
  {
   "cell_type": "code",
   "execution_count": 7,
   "metadata": {},
   "outputs": [],
   "source": [
    "file = open('some_file.txt')\n",
    "name = 'evan'\n",
    "for line in file:\n",
    "    print('one character is ' + name)"
   ]
  },
  {
   "cell_type": "code",
   "execution_count": 15,
   "metadata": {},
   "outputs": [
    {
     "name": "stdout",
     "output_type": "stream",
     "text": [
      "0\n",
      "1\n",
      "2\n",
      "3\n",
      "4\n",
      "5\n",
      "\n",
      "new list:\n",
      "3\n",
      "4\n",
      "5\n",
      "6\n",
      "7\n",
      "\n",
      "new list: \n",
      "1\n",
      "4\n",
      "7\n",
      "10\n",
      "13\n",
      "16\n"
     ]
    }
   ],
   "source": [
    "#looping with range\n",
    "#range generates lists to loop over, useful if you don't know the position of specific characters of interest\n",
    "protein = \"vlspadktnv\" \n",
    "for number in range(6):\n",
    "    print(number)\n",
    "\n",
    "#printing a range of numbers first is inclusive the second is exclusive \n",
    "print('\\n' + 'new list:')  \n",
    "for num in range(3,8):\n",
    "    print(num)\n",
    "    \n",
    "#printing three different numbers. Will count from the first two the second number given by the third number\n",
    "print('\\n' + 'new list: ')\n",
    "for n in range(1,17,3):\n",
    "\n",
    "    print(n)"
   ]
  },
  {
   "cell_type": "code",
   "execution_count": null,
   "metadata": {},
   "outputs": [],
   "source": [
    "#open input file \n",
    "file = open('input.txt')\n",
    "\n",
    "#create output file\n",
    "output = open('trimmed.txt', 'w')\n",
    "\n",
    "#goes through dna line by line to trim the sequence\n",
    "for dna in file: \n",
    "    last_character = len(dna)\n",
    "    dna_trim = dna[14:last_character]\n",
    "    output.write(dna_trim)\n",
    "    print('sequence length is ' + str(len(dna_trim)))"
   ]
  },
  {
   "cell_type": "code",
   "execution_count": null,
   "metadata": {},
   "outputs": [],
   "source": [
    "#open genomic file and read \n",
    "file = open('genomic_dna.txt').read()\n",
    "\n",
    "#open exon file \n",
    "exon = open('exons.txt')\n",
    "\n",
    "#coding sequence variable \n",
    "coding = \"\"\n",
    "\n",
    "for line in exon: \n",
    "    positions = line.split(\",\")\n",
    "    start = int(positions[0])\n",
    "    stop = int(postitions[1])\n",
    "    exon_sequence = genomic_dna[start:stop]\n",
    "    coding_sequence = coding + exon_sequence \n",
    "    \n",
    "#append and concatenate \n",
    "output = open('coding_sequence.txt', 'w')\n",
    "output.write(coding_sequence)\n",
    "output.close()"
   ]
  }
 ],
 "metadata": {
  "kernelspec": {
   "display_name": "Python 3",
   "language": "python",
   "name": "python3"
  },
  "language_info": {
   "codemirror_mode": {
    "name": "ipython",
    "version": 3
   },
   "file_extension": ".py",
   "mimetype": "text/x-python",
   "name": "python",
   "nbconvert_exporter": "python",
   "pygments_lexer": "ipython3",
   "version": "3.7.4"
  }
 },
 "nbformat": 4,
 "nbformat_minor": 2
}
