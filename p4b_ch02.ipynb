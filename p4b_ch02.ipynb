{
 "cells": [
  {
   "cell_type": "code",
   "execution_count": 7,
   "metadata": {},
   "outputs": [
    {
     "name": "stdout",
     "output_type": "stream",
     "text": [
      "16\n",
      "21\n",
      "at_content is 0.6851851851851852\n"
     ]
    }
   ],
   "source": [
    "#calculating AT content (AT/length of sequence)\n",
    "dna = \"ACTGATCGATTACGTATAGTATTTGCTATCATACATATATATCGATGCGTTCAT\"\n",
    "length = len(dna)\n",
    "a_count = dna.count('A')\n",
    "t_count = dna.count('T')\n",
    "#confirming counts\n",
    "print(a_count)\n",
    "print(t_count)\n",
    "at_content = (a_count + t_count)/length\n",
    "print('at_content is ' + str(at_content))"
   ]
  },
  {
   "cell_type": "code",
   "execution_count": 19,
   "metadata": {},
   "outputs": [
    {
     "name": "stdout",
     "output_type": "stream",
     "text": [
      "The complementary sequence is TGACTAGCTAATGCATATCATAAACGATAGTATGTATATATAGCTACGCAAGTA\n"
     ]
    }
   ],
   "source": [
    "#complementing DNA\n",
    "dna = 'ACTGATCGATTACGTATAGTATTTGCTATCATACATATATATCGATGCGTTCAT'\n",
    "#should use replace, but stepwise to be sure each is replaced independently\n",
    "replace1 = dna.replace('A', 't')\n",
    "replace2 = replace1.replace('T', 'a')\n",
    "replace3 = replace2.replace('C', 'g')\n",
    "replace4 = replace3.replace('G', 'c')\n",
    "print('The complementary sequence is ' + replace4.upper())"
   ]
  },
  {
   "cell_type": "code",
   "execution_count": 43,
   "metadata": {},
   "outputs": [
    {
     "name": "stdout",
     "output_type": "stream",
     "text": [
      "22\n",
      "Fragment 1 length: 22\n",
      "55\n",
      "Fragment 2 length: 33\n"
     ]
    }
   ],
   "source": [
    "#Restriction fragment lengths \n",
    "dna = 'ACTGATCGATTACGTATAGTAGAATTCTATCATACATATATATCGATGCGTTCAT'\n",
    "#using EcoR1 find G*AATTC, calculate length \n",
    "EcoR1 = dna.find('AATTC') \n",
    "#shows what positiong the fragment starts at, so length of first fragemnt is 22 nucleotides \n",
    "print(EcoR1)\n",
    "print ('Fragment 1 length: ' + str(EcoR1))\n",
    "#total length of DNA sequence\n",
    "dna_length = len(dna)\n",
    "print(str(dna_length))\n",
    "#finding length of fragment 2\n",
    "fragment2 = dna[27:55]\n",
    "fragment2_length = len(fragment2)\n",
    "print('Fragment 2 length: ' + str(dna_length - EcoR1))"
   ]
  },
  {
   "cell_type": "code",
   "execution_count": 51,
   "metadata": {},
   "outputs": [
    {
     "name": "stdout",
     "output_type": "stream",
     "text": [
      "ATCGATCGATCGATCGACTGACTAGTCATAGCTATGCATGTAGCTACTCGATCGATCGATCGA\n",
      "TATCATCGATCGATATCGATGCATCGACTACTAT\n"
     ]
    }
   ],
   "source": [
    "#splicing out introns \n",
    "dna = \"ATCGATCGATCGATCGACTGACTAGTCATAGCTATGCATGTAGCTACTCGATCGATCGATCGATCGATCGATCGATCGATCGATCATGCTATCATCGATCGATATCGATGCATCGACTACTAT\"\n",
    "coding_region_1 = dna[0:62]\n",
    "coding_region_2 = dna[90:100000]\n",
    "print(coding_region_1)\n",
    "print(coding_region_2)\n"
   ]
  },
  {
   "cell_type": "code",
   "execution_count": 57,
   "metadata": {},
   "outputs": [
    {
     "name": "stdout",
     "output_type": "stream",
     "text": [
      "77.23577235772358\n"
     ]
    }
   ],
   "source": [
    "#percentage of DNA that is coding\n",
    "dna = \"ATCGATCGATCGATCGACTGACTAGTCATAGCTATGCATGTAGCTACTCGATCGATCGATCGATCGATCGATCGATCGATCGATCATGCTATCATCGATCGATATCGATGCATCGACTACTAT\"\n",
    "exon1 = dna[0:62]\n",
    "exon2 = dna[90:10000]\n",
    "#total coding length\n",
    "coding = len(exon1 + exon2)\n",
    "total_dna = len(dna)\n",
    "print ((coding/total_dna)*100)"
   ]
  },
  {
   "cell_type": "code",
   "execution_count": 60,
   "metadata": {},
   "outputs": [
    {
     "name": "stdout",
     "output_type": "stream",
     "text": [
      "atcgatcgatcgatcgactgactagtcatagctatgcatgtagctactcgatcgatcgatcgATCGATCGATCGATCGATCGATCATGCTatcatcgatcgatatcgatgcatcgactactat\n"
     ]
    }
   ],
   "source": [
    "#upper case coding and lower case noncoding\n",
    "dna = \"ATCGATCGATCGATCGACTGACTAGTCATAGCTATGCATGTAGCTACTCGATCGATCGATCGATCGATCGATCGATCGATCGATCATGCTATCATCGATCGATATCGATGCATCGACTACTAT\"\n",
    "exon1 = dna[0:62]\n",
    "exon2 = dna[90:10000]\n",
    "intron = dna[62:90]\n",
    "print(exon1.lower() + intron.upper() + exon2.lower())"
   ]
  },
  {
   "cell_type": "code",
   "execution_count": null,
   "metadata": {},
   "outputs": [],
   "source": []
  }
 ],
 "metadata": {
  "kernelspec": {
   "display_name": "Python 3",
   "language": "python",
   "name": "python3"
  },
  "language_info": {
   "codemirror_mode": {
    "name": "ipython",
    "version": 3
   },
   "file_extension": ".py",
   "mimetype": "text/x-python",
   "name": "python",
   "nbconvert_exporter": "python",
   "pygments_lexer": "ipython3",
   "version": "3.7.4"
  }
 },
 "nbformat": 4,
 "nbformat_minor": 2
}
