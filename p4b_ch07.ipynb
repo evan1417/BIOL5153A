{
 "cells": [
  {
   "cell_type": "code",
   "execution_count": 1,
   "metadata": {},
   "outputs": [],
   "source": [
    "#chapter 7 regular expression "
   ]
  },
  {
   "cell_type": "code",
   "execution_count": 2,
   "metadata": {},
   "outputs": [],
   "source": [
    "#loading the regular expressions module \n",
    "import re "
   ]
  },
  {
   "cell_type": "code",
   "execution_count": 3,
   "metadata": {},
   "outputs": [
    {
     "ename": "NameError",
     "evalue": "name 'pattern' is not defined",
     "output_type": "error",
     "traceback": [
      "\u001b[1;31m---------------------------------------------------------------------------\u001b[0m",
      "\u001b[1;31mNameError\u001b[0m                                 Traceback (most recent call last)",
      "\u001b[1;32m<ipython-input-3-3c9d2d4c7c49>\u001b[0m in \u001b[0;36m<module>\u001b[1;34m\u001b[0m\n\u001b[0;32m      1\u001b[0m \u001b[1;31m#searching regular expressions\u001b[0m\u001b[1;33m\u001b[0m\u001b[1;33m\u001b[0m\u001b[1;33m\u001b[0m\u001b[0m\n\u001b[0;32m      2\u001b[0m \u001b[1;32mimport\u001b[0m \u001b[0mre\u001b[0m\u001b[1;33m\u001b[0m\u001b[1;33m\u001b[0m\u001b[0m\n\u001b[1;32m----> 3\u001b[1;33m \u001b[0mre\u001b[0m\u001b[1;33m.\u001b[0m\u001b[0msearch\u001b[0m\u001b[1;33m(\u001b[0m\u001b[0mpattern\u001b[0m\u001b[1;33m,\u001b[0m\u001b[0mstring\u001b[0m\u001b[1;33m)\u001b[0m\u001b[1;33m\u001b[0m\u001b[1;33m\u001b[0m\u001b[0m\n\u001b[0m",
      "\u001b[1;31mNameError\u001b[0m: name 'pattern' is not defined"
     ]
    }
   ],
   "source": [
    "#searching regular expressions \n",
    "import re \n",
    "re.search(pattern,string) # no document so this returns an error when ran "
   ]
  },
  {
   "cell_type": "code",
   "execution_count": 8,
   "metadata": {},
   "outputs": [
    {
     "name": "stdout",
     "output_type": "stream",
     "text": [
      "\\t\\n\n",
      "\t\n",
      "\n"
     ]
    }
   ],
   "source": [
    "# special characters \n",
    "print(r\"\\t\\n\")# putting r before the opening quotation ignores all special characters inside the string \n",
    "\n",
    "print(\"\\t\\n\") # returns nothing but white space "
   ]
  },
  {
   "cell_type": "code",
   "execution_count": 10,
   "metadata": {},
   "outputs": [
    {
     "name": "stdout",
     "output_type": "stream",
     "text": [
      "restriction site found\n"
     ]
    }
   ],
   "source": [
    "# using re.search\n",
    "# is a true/false function that only says if the pattern is in the string \n",
    "dna = \"ATCGCGAATTCAC\"\n",
    "if re.search(r\"GAATTC\", dna): # dont have to use r\"\" here since there are no special characters, is good practice though\n",
    "    print(\"restriction site found\")\n",
    "    \n",
    "# if the code doesn't work, the print function will not print anything "
   ]
  },
  {
   "cell_type": "code",
   "execution_count": 12,
   "metadata": {},
   "outputs": [],
   "source": [
    "# searching multiple terms \n",
    "dna = \"ATCGCGAATTCAC\"\n",
    "if re.search(r\"GGACC\", dna) or re.search(r\"GGTCC\", dna):\n",
    "    print(\"restriction site found\")\n",
    "    \n",
    "# using the AvaII motif \n",
    "dna = \"ATCGCGAATTCAC\"\n",
    "if re.search(r\"GG(A|T)CC\", dna): # the parenthesis are the alternatives that are different between the two sequences\n",
    "    print(\"restriction site found\")"
   ]
  },
  {
   "cell_type": "code",
   "execution_count": 13,
   "metadata": {},
   "outputs": [],
   "source": [
    "# searching for any base\n",
    "dna = \"ATCGCGAATTCAC\"\n",
    "if re.search(r\"GC(A|T|G|C)GC\", dna):\n",
    "    print(\"restriction site found!\")"
   ]
  },
  {
   "cell_type": "code",
   "execution_count": 15,
   "metadata": {},
   "outputs": [],
   "source": [
    "# using character groups \n",
    "dna = \"ATCGCGAATTCAC\"\n",
    "if re.search(r\"GC[ATCG]GC\", dna):\n",
    "    print(\"found\")\n",
    "\n",
    "# excluding unwanted characters from a group \n",
    "dna = \"ATCGCGAATTCAC\"\n",
    "if re.search(r\"GC[^XYZ]GC\", dna):\n",
    "    print(\"found\")"
   ]
  },
  {
   "cell_type": "code",
   "execution_count": 17,
   "metadata": {},
   "outputs": [
    {
     "name": "stdout",
     "output_type": "stream",
     "text": [
      "found\n"
     ]
    }
   ],
   "source": [
    "# using quantifiers\n",
    "dna = \"ATCGCGAATTCAC\"\n",
    "if re.search(r\"GAA?T\", dna): # question marks after the letter are optional seaches\n",
    "    print(\"found\")"
   ]
  },
  {
   "cell_type": "code",
   "execution_count": 18,
   "metadata": {},
   "outputs": [
    {
     "name": "stdout",
     "output_type": "stream",
     "text": [
      "found\n"
     ]
    }
   ],
   "source": [
    "# quantifiers that must be present\n",
    "dna = \"ATCGCGAATTCAC\"\n",
    "if re.search(r\"GAA+T\", dna): # + sign indicates that character must be found\n",
    "    print(\"found\")"
   ]
  },
  {
   "cell_type": "code",
   "execution_count": 23,
   "metadata": {},
   "outputs": [
    {
     "name": "stdout",
     "output_type": "stream",
     "text": [
      "found\n",
      "got em\n"
     ]
    }
   ],
   "source": [
    "dna = \"GGGATTTCGATGCCCAT\"\n",
    "if re.search(r\"GGA*TTT\", dna): # will match 3 g's followed by zero more more A's followed by for sure 3 t's\n",
    "    print(\"found\")\n",
    "\n",
    "# specifying a specific number of repeats requires {}\n",
    "if re.search(r\"GGA{5}TT\", dna) or re.search(r\"GGA{1,3}TT\", dna): # the comma will match anywhere in that pattern\n",
    "    print(\"got em\")\n"
   ]
  },
  {
   "cell_type": "code",
   "execution_count": 24,
   "metadata": {},
   "outputs": [],
   "source": [
    "# using the caret you can find the start of a string \n",
    "# ^AAA will match AAATTTT but not GGGAAATTT\n",
    "# GGG$ will match AAAGGG but not AAAGGGCCC"
   ]
  },
  {
   "cell_type": "code",
   "execution_count": 26,
   "metadata": {},
   "outputs": [],
   "source": [
    "# matching an RNA sequence in DNA \n",
    "# re.search(^ATC[ATCG]{30,1000}A{5,10}$) #basic formula for RNA sequences"
   ]
  },
  {
   "cell_type": "code",
   "execution_count": 28,
   "metadata": {},
   "outputs": [
    {
     "name": "stdout",
     "output_type": "stream",
     "text": [
      "GACGTAC\n"
     ]
    }
   ],
   "source": [
    "# the group method can return the string we search for\n",
    "dna = \"ATGACGTACGTACGACTG\"\n",
    "\n",
    "m = re.search(r\"GA[ATGC]{3}AC\", dna)\n",
    "print(m.group())"
   ]
  },
  {
   "cell_type": "code",
   "execution_count": 29,
   "metadata": {},
   "outputs": [
    {
     "name": "stdout",
     "output_type": "stream",
     "text": [
      "entire match GACGTACGTAC\n",
      "first part CGT\n",
      "last part GT\n"
     ]
    }
   ],
   "source": [
    "dna = \"ATGACGTACGTACGACTG\"\n",
    "\n",
    "m = re.search(r\"GA([ATGC]{3})AC([ATGC]{2})AC\", dna)\n",
    "print(\"entire match \" + m.group())\n",
    "print(\"first part \" + m.group(1))\n",
    "print(\"last part \" + m.group(2))"
   ]
  },
  {
   "cell_type": "code",
   "execution_count": 39,
   "metadata": {},
   "outputs": [
    {
     "name": "stdout",
     "output_type": "stream",
     "text": [
      "start: 2\n",
      "end: 13\n"
     ]
    }
   ],
   "source": [
    "dna = \"ATGACGTACGTACGACTG\"\n",
    "\n",
    "m = re.search(r\"GA([ATGC]{3})AC([ATGC]{2})AC\", dna)\n",
    "print(\"start: \" + str(m.start()))\n",
    "print(\"end: \" + str(m.end()))"
   ]
  },
  {
   "cell_type": "code",
   "execution_count": 40,
   "metadata": {},
   "outputs": [
    {
     "name": "stdout",
     "output_type": "stream",
     "text": [
      "group 1 start: 4\n",
      "group 2 start: 9\n",
      "group 1 end: 7\n",
      "group 2 end: 11\n"
     ]
    }
   ],
   "source": [
    "dna = \"ATGACGTACGTACGACTG\"\n",
    "\n",
    "m = re.search(r\"GA([ATGC]{3})AC([ATGC]{2})AC\", dna)\n",
    "\n",
    "# supplying the number as an argument will get the start and end of certin groups \n",
    "\n",
    "print(\"group 1 start: \" + str(m.start(1)))\n",
    "print(\"group 2 start: \" + str(m.start(2)))\n",
    "print(\"group 1 end: \" + str(m.end(1)))\n",
    "print(\"group 2 end: \" + str(m.end(2)))"
   ]
  },
  {
   "cell_type": "code",
   "execution_count": 42,
   "metadata": {},
   "outputs": [
    {
     "name": "stdout",
     "output_type": "stream",
     "text": [
      "['ACT', 'GCAT', 'GCTACGT', 'ACGAT', 'CGA', 'TCG']\n"
     ]
    }
   ],
   "source": [
    "# using the re.split the caret will take out anything that doesn't match that string \n",
    "\n",
    "dna = \"ACTNGCATRGCTACGTYACGATSCGAWTCG\"\n",
    "\n",
    "runs = re.split(r\"[^ATGC]\", dna) # skips all non DNA based letters\n",
    "print(runs) "
   ]
  },
  {
   "cell_type": "code",
   "execution_count": 43,
   "metadata": {},
   "outputs": [
    {
     "name": "stdout",
     "output_type": "stream",
     "text": [
      "['ATTATAT', 'AAATTATA']\n"
     ]
    }
   ],
   "source": [
    "# finding multiple matches using findall\n",
    "\n",
    "dna = \"ACTGCATTATATCGTACGAAATTATACGCGCG\"\n",
    "\n",
    "runs = re.findall(r\"[AT]{4,100}\", dna) # finds all strings that only contain A's and T's from 4-100 letters\n",
    "print(runs)"
   ]
  },
  {
   "cell_type": "code",
   "execution_count": 46,
   "metadata": {},
   "outputs": [
    {
     "name": "stdout",
     "output_type": "stream",
     "text": [
      "AT rich region from 5 to 12\n",
      "AT rich region from 18 to 26\n"
     ]
    }
   ],
   "source": [
    "# using finditer to show the positions of the matched objects\n",
    "\n",
    "dna = \"ACTGCATTATATCGTACGAAATTATACGCGCG\"\n",
    "\n",
    "runs = re.finditer(r\"[AT]{3,100}\", dna) # find A's and T's and print their position \n",
    "\n",
    "for match in runs: \n",
    "    start = match.start()\n",
    "    end = match.end()\n",
    "    print(\"AT rich region from \" + str(start) + \" to \" + str(end))"
   ]
  },
  {
   "cell_type": "code",
   "execution_count": 68,
   "metadata": {},
   "outputs": [
    {
     "name": "stdout",
     "output_type": "stream",
     "text": [
      "These names contain the number 5: xkn59438\n",
      "These names contain the number 5: hedle3455\n",
      "These names contain the number 5: xjhd53e\n",
      "These names contain the number 5: 45da\n",
      "These names contain d or e: yhdck2\n",
      "These names contain d or e: eihd39d9\n",
      "These names contain d or e: chdsye847\n",
      "These names contain d or e: hedle3455\n",
      "These names contain d or e: xjhd53e\n",
      "These names contain d or e: 45da\n",
      "These names contain d or e: de37dp\n",
      "These names have D and E in order: chdsye847\n",
      "These names have D and E in order: hedle3455\n",
      "These names have D and E in order: xjhd53e\n",
      "These names have D and E in order: de37dp\n",
      "Orders complicated: hedle3455\n",
      "This list is absurd! and here are your names: xkn59438\n",
      "This list is absurd! and here are your names: yhdck2\n",
      "This list is absurd! and here are your names: eihd39d9\n",
      "This list is absurd! and here are your names: chdsye847\n",
      "This list is absurd! and here are your names: hedle3455\n",
      "This list is absurd! and here are your names: xjhd53e\n",
      "This list is absurd! and here are your names: 45da\n",
      "This list is absurd! and here are your names: de37dp\n",
      "I searched your name from behind: xkn59438\n",
      "I searched your name from behind: yhdck2\n",
      "I searched your name from behind: xjhd53e\n",
      "General Kenobi! You are an xye one: xjhd53e\n",
      "3 in a row numbers: xkn59438\n",
      "3 in a row numbers: chdsye847\n",
      "3 in a row numbers: hedle3455\n",
      "This ends in d followed by arp maybe: 45da\n",
      "This ends in d followed by arp maybe: de37dp\n"
     ]
    }
   ],
   "source": [
    "accs = [\"xkn59438\", \"yhdck2\", \"eihd39d9\", \"chdsye847\", \"hedle3455\", \"xjhd53e\", \"45da\", \"de37dp\"]\n",
    "\n",
    "#printing all names that contain the number 5\n",
    "for five in accs: \n",
    "    if re.search(r\"5\", five):\n",
    "        print(\"These names contain the number 5: \" + five)\n",
    "\n",
    "#printing everything that contains the letter d or e \n",
    "for lett in accs:\n",
    "    if re.search(r\"(d|e)\", lett):\n",
    "        print(\"These names contain d or e: \" + lett)\n",
    "        \n",
    "# printing things with d and e but in that order \n",
    "for order in accs: \n",
    "    if re.search(r\"d.*e\", order):\n",
    "        print(\"These names have D and E in order: \" + order)\n",
    "        \n",
    "# printing d then a letter then e \n",
    "for acc in accs: \n",
    "    if re.search(r\"(d.e)\", acc):\n",
    "        print(\"Orders complicated: \" + acc)\n",
    "        \n",
    "# d and e in any order \n",
    "for anarchy in accs:\n",
    "    if re.search(r\"d.*e\", acc) or re.search(r\"e.*d\", acc): \n",
    "        print(\"This list is absurd! and here are your names: \" + anarchy)\n",
    "\n",
    "# starting with either x or y \n",
    "for xxx in accs:\n",
    "    if re.search(r\"^(x|y)\", xxx):\n",
    "        print(\"I searched your name from behind: \" + xxx)\n",
    "        \n",
    "# ends in e but starts with x or y \n",
    "for e in accs: \n",
    "    if re.search(r\"^(x|y).*e$\", e):\n",
    "        print(\"General Kenobi! You are an xye one: \" + e)\n",
    "        \n",
    "# getting three numbers in a row\n",
    "for strikes in accs:\n",
    "    if re.search(r\"\\d{3,}\", strikes):\n",
    "        print(\"3 in a row numbers: \" + strikes)\n",
    "        \n",
    "# ends with d followed be either a, r, or p \n",
    "for ending in accs:\n",
    "    if re.search(r\"d[arp]$\", ending):\n",
    "        print(\"This ends in d followed by arp maybe: \" + ending)"
   ]
  },
  {
   "cell_type": "code",
   "execution_count": 70,
   "metadata": {},
   "outputs": [
    {
     "ename": "FileNotFoundError",
     "evalue": "[Errno 2] No such file or directory: 'dna.txt'",
     "output_type": "error",
     "traceback": [
      "\u001b[1;31m---------------------------------------------------------------------------\u001b[0m",
      "\u001b[1;31mFileNotFoundError\u001b[0m                         Traceback (most recent call last)",
      "\u001b[1;32m<ipython-input-70-cab703fca18f>\u001b[0m in \u001b[0;36m<module>\u001b[1;34m\u001b[0m\n\u001b[0;32m      1\u001b[0m \u001b[1;31m# from a dna sequence, predict fragment lengths from a restriction enzyme\u001b[0m\u001b[1;33m\u001b[0m\u001b[1;33m\u001b[0m\u001b[1;33m\u001b[0m\u001b[0m\n\u001b[0;32m      2\u001b[0m \u001b[1;33m\u001b[0m\u001b[0m\n\u001b[1;32m----> 3\u001b[1;33m \u001b[0mdna\u001b[0m \u001b[1;33m=\u001b[0m \u001b[0mopen\u001b[0m\u001b[1;33m(\u001b[0m\u001b[1;34m\"dna.txt\"\u001b[0m\u001b[1;33m)\u001b[0m\u001b[1;33m.\u001b[0m\u001b[0mread\u001b[0m\u001b[1;33m(\u001b[0m\u001b[1;33m)\u001b[0m\u001b[1;33m.\u001b[0m\u001b[0mrstrip\u001b[0m\u001b[1;33m(\u001b[0m\u001b[1;34m\"\\n\"\u001b[0m\u001b[1;33m)\u001b[0m\u001b[1;33m\u001b[0m\u001b[1;33m\u001b[0m\u001b[0m\n\u001b[0m\u001b[0;32m      4\u001b[0m \u001b[0mprint\u001b[0m\u001b[1;33m(\u001b[0m\u001b[0mstr\u001b[0m\u001b[1;33m(\u001b[0m\u001b[0mlen\u001b[0m\u001b[1;33m(\u001b[0m\u001b[0mdna\u001b[0m\u001b[1;33m)\u001b[0m\u001b[1;33m)\u001b[0m\u001b[1;33m)\u001b[0m\u001b[1;33m\u001b[0m\u001b[1;33m\u001b[0m\u001b[0m\n\u001b[0;32m      5\u001b[0m \u001b[0mall_cuts\u001b[0m \u001b[1;33m=\u001b[0m \u001b[1;33m[\u001b[0m\u001b[1;36m0\u001b[0m\u001b[1;33m]\u001b[0m\u001b[1;33m\u001b[0m\u001b[1;33m\u001b[0m\u001b[0m\n",
      "\u001b[1;31mFileNotFoundError\u001b[0m: [Errno 2] No such file or directory: 'dna.txt'"
     ]
    }
   ],
   "source": [
    "# from a dna sequence, predict fragment lengths from a restriction enzyme \n",
    "\n",
    "dna = open(\"dna.txt\").read().rstrip(\"\\n\")\n",
    "print(str(len(dna)))\n",
    "all_cuts = [0]\n",
    "\n",
    "#adding cut positions for the AbcI enzyme \n",
    "for match in re.finditer(r\"A[ATGC]TAAT\", dna):\n",
    "    all_cuts.append(match.start() + 3)\n",
    "\n",
    "#adding cut positiosn for AbsII enzyme\n",
    "for match in re.finditer(r\"GC[AG][AT]TG\", dna):\n",
    "    all_cuts.append(match.start() + 4)\n",
    "\n",
    "# adding the final position of the fragments \n",
    "all_cuts.append(len(dna))\n",
    "cuts = sorted(all_cuts)\n",
    "print(cuts)\n",
    "\n",
    "for i in range(1, len(cuts)):\n",
    "    position = cuts[1]\n",
    "    before = cuts[i-1]\n",
    "    size = position - before \n",
    "    print(\"one fragment size is \" + str(size))"
   ]
  },
  {
   "cell_type": "code",
   "execution_count": null,
   "metadata": {},
   "outputs": [],
   "source": []
  }
 ],
 "metadata": {
  "kernelspec": {
   "display_name": "Python 3",
   "language": "python",
   "name": "python3"
  },
  "language_info": {
   "codemirror_mode": {
    "name": "ipython",
    "version": 3
   },
   "file_extension": ".py",
   "mimetype": "text/x-python",
   "name": "python",
   "nbconvert_exporter": "python",
   "pygments_lexer": "ipython3",
   "version": "3.7.6"
  }
 },
 "nbformat": 4,
 "nbformat_minor": 4
}
